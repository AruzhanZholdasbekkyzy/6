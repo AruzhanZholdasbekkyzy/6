{
 "cells": [
  {
   "cell_type": "code",
   "execution_count": null,
   "metadata": {},
   "outputs": [
    {
     "name": "stdout",
     "output_type": "stream",
     "text": [
      "['a.txt', 'all_tasks.ipynb', 'b.txt', 'c.txt', 'd.txt', 'e.txt', 'f.txt', 'g.txt', 'h.txt', 'i.txt', 'j.txt', 'k.txt', 'l.txt', 'm.txt', 'n.txt', 'o.txt', 'p.txt', 'q.txt', 'r.txt', 's.txt', 't.txt', 'u.txt', 'v.txt', 'w.txt', 'x.txt', 'y.txt', 'z.txt']\n",
      "[]\n",
      "['a.txt', 'all_tasks.ipynb', 'b.txt', 'c.txt', 'd.txt', 'e.txt', 'f.txt', 'g.txt', 'h.txt', 'i.txt', 'j.txt', 'k.txt', 'l.txt', 'm.txt', 'n.txt', 'o.txt', 'p.txt', 'q.txt', 'r.txt', 's.txt', 't.txt', 'u.txt', 'v.txt', 'w.txt', 'x.txt', 'y.txt', 'z.txt']\n"
     ]
    }
   ],
   "source": [
    "import os\n",
    "from string import ascii_uppercase\n",
    "\n",
    "location1 = r'C:\\Users\\Динара\\OneDrive\\Desktop\\lab6'\n",
    "print([name for name in os.listdir(location1)]) \n",
    "print([name for name in os.listdir(location1) if os.path.isdir(os.path.join(location1, name))]) #only directories\n",
    "print([name for name in os.listdir(location1) if not os.path.isdir(os.path.join(location1, name))]) #only files"
   ]
  },
  {
   "cell_type": "code",
   "execution_count": null,
   "metadata": {},
   "outputs": [],
   "source": [
    "path = input('Insert path \\n')\n",
    "path_bool = os.access(path, os.F_OK)\n",
    "if path_bool == False:\n",
    "    print(\"Path does not exist\")\n",
    "elif path_bool == True:\n",
    "    print(\"Directories:\", ', '.join([name for name in os.listdir(path) if os.path.isdir(os.path.join(path, name))]))\n",
    "    print(\"Files:\", ', '.join([name for name in os.listdir(path) if not os.path.isdir(os.path.join(path, name))]))"
   ]
  },
  {
   "cell_type": "code",
   "execution_count": null,
   "metadata": {},
   "outputs": [],
   "source": [
    "import os\n",
    "from string import ascii_uppercase\n",
    "\n",
    "with open(r'C:\\Users\\Динара\\OneDrive\\Desktop\\lab6', 'r') as file:\n",
    "    x = len(file.readlines())\n",
    "    print(\"Number of lines:\", x)"
   ]
  },
  {
   "cell_type": "code",
   "execution_count": null,
   "metadata": {},
   "outputs": [],
   "source": [
    "\n",
    "mylist = ['A', 'B', 'C', 'D']\n",
    "with open(r'C:\\Users\\Динара\\OneDrive\\Desktop\\lab6\\file2.txt', 'w') as file:\n",
    "    for i in mylist:\n",
    "        file.write(i + '\\n')\n",
    "file.close()"
   ]
  },
  {
   "cell_type": "code",
   "execution_count": null,
   "metadata": {},
   "outputs": [],
   "source": [
    "import string\n",
    "\n",
    "def generate_text_files():\n",
    "    for letter in string.ascii_uppercase:\n",
    "        with open(f\"{letter}.txt\", 'w') as file:\n",
    "            file.write(f\"This is the file {letter}.txt\")"
   ]
  }
 ],
 "metadata": {
  "kernelspec": {
   "display_name": "Python 3",
   "language": "python",
   "name": "python3"
  },
  "language_info": {
   "codemirror_mode": {
    "name": "ipython",
    "version": 3
   },
   "file_extension": ".py",
   "mimetype": "text/x-python",
   "name": "python",
   "nbconvert_exporter": "python",
   "pygments_lexer": "ipython3",
   "version": "3.11.4"
  }
 },
 "nbformat": 4,
 "nbformat_minor": 2
}
